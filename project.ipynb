{
  "nbformat": 4,
  "nbformat_minor": 0,
  "metadata": {
    "colab": {
      "provenance": []
    },
    "kernelspec": {
      "name": "python3",
      "display_name": "Python 3"
    },
    "language_info": {
      "name": "python"
    }
  },
  "cells": [
    {
      "cell_type": "code",
      "execution_count": 1,
      "metadata": {
        "colab": {
          "base_uri": "https://localhost:8080/"
        },
        "id": "p-VvjyQaqnHy",
        "outputId": "d236329d-b00a-41df-f962-6802332f4da5"
      },
      "outputs": [
        {
          "output_type": "stream",
          "name": "stdout",
          "text": [
            "Requirement already satisfied: inflect in /usr/local/lib/python3.11/dist-packages (7.5.0)\n",
            "Requirement already satisfied: more_itertools>=8.5.0 in /usr/local/lib/python3.11/dist-packages (from inflect) (10.7.0)\n",
            "Requirement already satisfied: typeguard>=4.0.1 in /usr/local/lib/python3.11/dist-packages (from inflect) (4.4.2)\n",
            "Requirement already satisfied: typing_extensions>=4.10.0 in /usr/local/lib/python3.11/dist-packages (from typeguard>=4.0.1->inflect) (4.13.2)\n"
          ]
        }
      ],
      "source": [
        "!pip install inflect\n"
      ]
    },
    {
      "cell_type": "code",
      "source": [
        "import inflect\n",
        "\n",
        "p = inflect.engine()\n",
        "\n",
        "number = int(input(\"Enter a number (1 to 1000): \"))\n",
        "\n",
        "if number < 1 or number > 1000:\n",
        "    print(\"Number must be between 1 and 1000.\")\n",
        "else:\n",
        "    print(\" In words:\", p.number_to_words(number).capitalize())\n"
      ],
      "metadata": {
        "colab": {
          "base_uri": "https://localhost:8080/"
        },
        "id": "LeJW_6X5qugn",
        "outputId": "816d050e-343d-4363-d8ea-024280681667"
      },
      "execution_count": 9,
      "outputs": [
        {
          "output_type": "stream",
          "name": "stdout",
          "text": [
            "Enter a number (1 to 1000): 875\n",
            " In words: Eight hundred and seventy-five\n"
          ]
        }
      ]
    },
    {
      "cell_type": "code",
      "source": [],
      "metadata": {
        "id": "NQm455fQq4yO"
      },
      "execution_count": null,
      "outputs": []
    },
    {
      "cell_type": "code",
      "source": [],
      "metadata": {
        "id": "kKD_9LxMtqDT"
      },
      "execution_count": null,
      "outputs": []
    }
  ]
}